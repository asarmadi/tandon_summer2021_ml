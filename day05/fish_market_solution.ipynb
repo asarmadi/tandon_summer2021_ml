{
 "cells": [
  {
   "cell_type": "markdown",
   "metadata": {
    "colab_type": "text",
    "id": "view-in-github"
   },
   "source": [
    "<a href=\"https://colab.research.google.com/github/huaijiangzhu/SummerML/blob/master/day5/fish_market_alternatives.ipynb\" target=\"_parent\"><img src=\"https://colab.research.google.com/assets/colab-badge.svg\" alt=\"Open In Colab\"/></a>"
   ]
  },
  {
   "cell_type": "code",
   "execution_count": 4,
   "metadata": {
    "colab": {},
    "colab_type": "code",
    "id": "EjOoKJazwe0W"
   },
   "outputs": [],
   "source": [
    "import numpy as np\n",
    "import pandas as pd\n",
    "import matplotlib.pyplot as plt\n",
    "from sklearn.linear_model import LinearRegression, Ridge, Lasso\n",
    "plt.rc_context({'axes.edgecolor':'white', 'xtick.color':'white', 'axes.labelcolor':'white', 'ytick.color':'white'});"
   ]
  },
  {
   "cell_type": "code",
   "execution_count": 5,
   "metadata": {
    "colab": {},
    "colab_type": "code",
    "id": "KR-q6CIawe0a"
   },
   "outputs": [],
   "source": [
    "feature = pd.read_csv('https://github.com/asarmadi/tandon_summer2021_ml/raw/main/day05/fish_market_feature.csv')\n",
    "label = pd.read_csv('https://github.com/asarmadi/tandon_summer2021_ml/raw/main/day05/fish_market_label.csv')"
   ]
  },
  {
   "cell_type": "code",
   "execution_count": 6,
   "metadata": {
    "colab": {},
    "colab_type": "code",
    "id": "ghV_wUD2we0f"
   },
   "outputs": [],
   "source": [
    "from sklearn.model_selection import train_test_split\n",
    "from sklearn import preprocessing\n",
    "X = feature.values\n",
    "y = label.values\n",
    "X_train, X_val, y_train, y_val = train_test_split(X, y, test_size=0.01, random_state=0)\n",
    "\n",
    "X_test = pd.read_csv('https://github.com/asarmadi/tandon_summer2021_ml/raw/main/day05/fish_market_test_feature.csv').values\n",
    "y_test = pd.read_csv('https://github.com/asarmadi/tandon_summer2021_ml/raw/main/day05/fish_market_test_label.csv').values"
   ]
  },
  {
   "cell_type": "code",
   "execution_count": 7,
   "metadata": {
    "colab": {},
    "colab_type": "code",
    "id": "zGZ-pfdSD1wx"
   },
   "outputs": [],
   "source": [
    "def print_and_plot(y_pred, y):\n",
    "    MAE = np.mean(np.abs(y_pred - y))\n",
    "    MSE = np.mean((y_pred - y)**2)\n",
    "    print ('The MSE is {:0.2f}'.format(MSE))\n",
    "    print ('The MAE is {:0.2f}'.format(MAE))\n",
    "    plt.figure(figsize=(8,6))\n",
    "    plt.plot(y_pred, 'o', label='predicted')\n",
    "    plt.plot(y, 'o', label='ground truth')\n",
    "    plt.legend(loc='upper left')\n",
    "    plt.grid()"
   ]
  },
  {
   "cell_type": "markdown",
   "metadata": {
    "colab_type": "text",
    "id": "yUmOXzhHBZXE"
   },
   "source": [
    "## Ridge linear regression without feature engineering"
   ]
  },
  {
   "cell_type": "code",
   "execution_count": 8,
   "metadata": {
    "colab": {
     "base_uri": "https://localhost:8080/",
     "height": 299
    },
    "colab_type": "code",
    "id": "HrcwaoOiw15-",
    "outputId": "5fae52c5-14e9-4c51-9c0a-14243aedcd95"
   },
   "outputs": [
    {
     "name": "stdout",
     "output_type": "stream",
     "text": [
      "The MSE is 6427.56\n",
      "The MAE is 62.12\n"
     ]
    },
    {
     "data": {
      "image/png": "[encoded data removed]",
      "text/plain": [
       "<Figure size 576x432 with 1 Axes>"
      ]
     },
     "metadata": {
      "needs_background": "dark"
     },
     "output_type": "display_data"
    }
   ],
   "source": [
    "model = Ridge(alpha=10)\n",
    "model.fit(X_train, y_train)\n",
    "\n",
    "# If a prediction is negative, set it to zero\n",
    "y_hat = np.maximum(model.predict(X_test), 0)\n",
    "print_and_plot(y_hat, y_test)"
   ]
  },
  {
   "cell_type": "markdown",
   "metadata": {
    "colab_type": "text",
    "id": "ikDCSyItFLzS"
   },
   "source": [
    "## With polynomial feature transformation"
   ]
  },
  {
   "cell_type": "code",
   "execution_count": 9,
   "metadata": {
    "colab": {
     "base_uri": "https://localhost:8080/",
     "height": 299
    },
    "colab_type": "code",
    "id": "EzikvBGHBK4M",
    "outputId": "3c96cdcf-f28a-4883-de0c-d1b0818951a1"
   },
   "outputs": [
    {
     "name": "stdout",
     "output_type": "stream",
     "text": [
      "The MSE is 2232.20\n",
      "The MAE is 27.59\n"
     ]
    },
    {
     "data": {
      "image/png": "[encoded data removed]",
      "text/plain": [
       "<Figure size 576x432 with 1 Axes>"
      ]
     },
     "metadata": {
      "needs_background": "dark"
     },
     "output_type": "display_data"
    }
   ],
   "source": [
    "from sklearn.preprocessing import PolynomialFeatures\n",
    "\n",
    "poly = PolynomialFeatures(2)\n",
    "PhiX_train = poly.fit_transform(X_train)\n",
    "PhiX_test = poly.fit_transform(X_test)\n",
    "\n",
    "model = Ridge(1e2)\n",
    "model.fit(PhiX_train, y_train)\n",
    "y_hat = model.predict(PhiX_test)\n",
    "print_and_plot(y_hat, y_test)"
   ]
  },
  {
   "cell_type": "markdown",
   "metadata": {
    "colab_type": "text",
    "id": "zi_DTPrrW5Wq"
   },
   "source": [
    "### Leave-one-out cross-validation"
   ]
  },
  {
   "cell_type": "code",
   "execution_count": 10,
   "metadata": {
    "colab": {
     "base_uri": "https://localhost:8080/",
     "height": 34
    },
    "colab_type": "code",
    "id": "P2ebQ0l6YeZz",
    "outputId": "0b3ee403-fc1f-4ded-a32f-8b4fa2a66aed"
   },
   "outputs": [
    {
     "name": "stdout",
     "output_type": "stream",
     "text": [
      "Leave-one-out MAE for poly feature is: 35.11\n"
     ]
    }
   ],
   "source": [
    "N = X.shape[0]\n",
    "MAE = 0\n",
    "poly = PolynomialFeatures(3)\n",
    "model = Ridge(alpha=1e2)\n",
    "\n",
    "for n in range(N):\n",
    "    X_val = X[n:n+1, :]\n",
    "    y_val = y[n:n+1, :]\n",
    "    X_train = np.delete(X, n, 0)\n",
    "    y_train = np.delete(y, n, 0)\n",
    "\n",
    "    PhiX_train = poly.fit_transform(X_train)\n",
    "    PhiX_val = poly.fit_transform(X_val)\n",
    "\n",
    "    model.fit(PhiX_train, y_train)\n",
    "    y_hat = model.predict(PhiX_val)\n",
    "\n",
    "    MAE += np.mean(np.abs(y_hat - y_val))\n",
    "\n",
    "MAE = MAE/N\n",
    "print ('Leave-one-out MAE for poly feature is: {:0.2f}'.format(MAE))"
   ]
  }
 ],
 "metadata": {
  "colab": {
   "collapsed_sections": [],
   "include_colab_link": true,
   "name": "fish_market.ipynb",
   "provenance": []
  },
  "kernelspec": {
   "display_name": "Python 3",
   "language": "python",
   "name": "python3"
  },
  "language_info": {
   "codemirror_mode": {
    "name": "ipython",
    "version": 3
   },
   "file_extension": ".py",
   "mimetype": "text/x-python",
   "name": "python",
   "nbconvert_exporter": "python",
   "pygments_lexer": "ipython3",
   "version": "3.7.4"
  }
 },
 "nbformat": 4,
 "nbformat_minor": 1
}
