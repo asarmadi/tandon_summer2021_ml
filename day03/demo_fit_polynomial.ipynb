{
 "cells": [
  {
   "cell_type": "markdown",
   "metadata": {
    "colab_type": "text",
    "id": "N2NAXNEpSTcj"
   },
   "source": [
    "# Fit a Polynomial"
   ]
  },
  {
   "cell_type": "code",
   "execution_count": 1,
   "metadata": {
    "colab": {},
    "colab_type": "code",
    "id": "wSar4Pz6giXO"
   },
   "outputs": [],
   "source": [
    "import pandas as pd\n",
    "import matplotlib.pyplot as plt\n",
    "import numpy as np"
   ]
  },
  {
   "cell_type": "code",
   "execution_count": 2,
   "metadata": {
    "colab": {
     "base_uri": "https://localhost:8080/",
     "height": 282
    },
    "colab_type": "code",
    "id": "2ny81cLMSE_M",
    "outputId": "865aa399-f292-41b8-dc25-27be739693c1"
   },
   "outputs": [
    {
     "data": {
      "image/png": "[encoded data removed]",
      "text/plain": [
       "<Figure size 432x288 with 1 Axes>"
      ]
     },
     "metadata": {
      "needs_background": "light"
     },
     "output_type": "display_data"
    }
   ],
   "source": [
    "url = 'https://raw.githubusercontent.com/BolunDai0216/nyuMLSummerSchool21/master/day03/polyfit_data.csv'\n",
    "df = pd.read_csv(url)\n",
    "x = df['x'].values\n",
    "y = df['y'].values\n",
    "plt.plot(x,y,'o')\n",
    "plt.xlabel('x')\n",
    "plt.ylabel('y')\n",
    "plt.show()"
   ]
  },
  {
   "cell_type": "code",
   "execution_count": null,
   "metadata": {},
   "outputs": [],
   "source": []
  },
  {
   "cell_type": "markdown",
   "metadata": {},
   "source": [
    "# Exercice :\n",
    "1) Compute the Design matrix :\n",
    "$ \\begin{bmatrix} 1 & x_{1} & x_{1}^2 & \\cdots & x_{1}^M \\\\ 1 & x_{2} &\n",
    "    x_{2}^2 & \\cdots & x_{2}^M \\\\ \\vdots & & \\ddots & & \\vdots \\\\ 1 & x_{N} & x_{N}^2 & \\cdots & x_{N}^M \\end{bmatrix}$\n",
    "\n",
    "2) Compute the Least-Square solution : $\\mathbf{w} = (X^TX)^{-1}X^TY$\n",
    "\n",
    "3) Compute the MSE\n",
    "\n",
    "4) Make a prediction for xplt = np.linspace(0, 5, 100) and plot your polynomial over the data points\n",
    "\n",
    "5) Try to find the \"best\" value for M"
   ]
  },
  {
   "cell_type": "code",
   "execution_count": 4,
   "metadata": {
    "colab": {
     "base_uri": "https://localhost:8080/",
     "height": 282
    },
    "colab_type": "code",
    "id": "XwuideM0SQyo",
    "outputId": "72d99d13-7770-46a4-bd5a-df6312b54dab"
   },
   "outputs": [
    {
     "name": "stdout",
     "output_type": "stream",
     "text": [
      "the mean square error is -2.032758961156844e-11\n"
     ]
    },
    {
     "data": {
      "text/plain": [
       "[<matplotlib.lines.Line2D at 0x7fdbde7ff668>]"
      ]
     },
     "execution_count": 4,
     "metadata": {},
     "output_type": "execute_result"
    },
    {
     "data": {
      "image/png": "[encoded data removed]",
      "text/plain": [
       "<Figure size 432x288 with 1 Axes>"
      ]
     },
     "metadata": {
      "needs_background": "light"
     },
     "output_type": "display_data"
    }
   ],
   "source": [
    "# Choose any integer value for M\n",
    "M = 5\n",
    "\n",
    "# TODO: 1) complete this function to return the Design matrix\n",
    "def design_matrix(x, M):\n",
    "    lst = []\n",
    "    # You could use a for-loop or python broadcasting (a for-loop is the easiest choice)\n",
    "    for i in range(M):\n",
    "        lst.append(np.power(x, i))\n",
    "    des_matrix = np.hstack(lst) \n",
    "    return des_matrix\n",
    "\n",
    "# compute the design matrix of x\n",
    "X = design_matrix(x[:, np.newaxis], 5)\n",
    "# remember to reshape y to a column vector\n",
    "y = y.reshape(-1, 1)\n",
    "\n",
    "# TODO: 2) compute w using the least-square solution above (you can use np.linalg.pinv)\n",
    "w_ls = np.linalg.inv(X.T @ X)@ X.T @ y\n",
    "\n",
    "# TODO: 3) compute the MSE\n",
    "mse_ls = np.mean((X@w_ls - y))\n",
    "print(f\"the mean square error is {mse_ls}\")\n",
    "\n",
    "# TODO 4) make a prediction over \"new\" data and plot your polynomial fit\n",
    "xplt = np.linspace(0, 5, 100)\n",
    "Xplt = design_matrix(xplt[:, np.newaxis], 5)\n",
    "yplt = Xplt @ w_ls # here you need to use the w_ls obtained from the least-square solution\n",
    "\n",
    "# plot your polynomial fit\n",
    "plt.plot(x, y, 'o')\n",
    "plt.plot(xplt, yplt) # you may want to add the training points (x,y) on the same plot \n"
   ]
  },
  {
   "cell_type": "markdown",
   "metadata": {},
   "source": [
    "# Bonus :\n",
    "\n",
    "Reproduce your code with sklearn !"
   ]
  },
  {
   "cell_type": "code",
   "execution_count": 5,
   "metadata": {
    "colab": {
     "base_uri": "https://localhost:8080/",
     "height": 282
    },
    "colab_type": "code",
    "id": "fhnNe8XoenAb",
    "outputId": "1f9e66e6-4062-4099-b783-ba737d11250d"
   },
   "outputs": [
    {
     "data": {
      "text/plain": [
       "[<matplotlib.lines.Line2D at 0x7fdbde9504e0>]"
      ]
     },
     "execution_count": 5,
     "metadata": {},
     "output_type": "execute_result"
    },
    {
     "data": {
      "image/png": "[encoded data removed]",
      "text/plain": [
       "<Figure size 432x288 with 1 Axes>"
      ]
     },
     "metadata": {
      "needs_background": "light"
     },
     "output_type": "display_data"
    }
   ],
   "source": [
    "from sklearn import linear_model\n",
    "\n",
    "# TODO: Bonus\n",
    "\n",
    "# create a regression model\n",
    "reg = linear_model.LinearRegression(fit_intercept=False)\n",
    "\n",
    "# fit the model\n",
    "reg.fit(X, y)\n",
    "\n",
    "# use the model to predict\n",
    "yhat = reg.predict(X)\n",
    "\n",
    "# plot the same as above (use Xplt as input to your model)\n",
    "plt.plot(x, y, 'o')\n",
    "plt.plot(xplt, yplt)"
   ]
  },
  {
   "cell_type": "code",
   "execution_count": 6,
   "metadata": {},
   "outputs": [
    {
     "data": {
      "text/plain": [
       "17"
      ]
     },
     "execution_count": 6,
     "metadata": {},
     "output_type": "execute_result"
    }
   ],
   "source": [
    "# TODO 5) find the best value for M\n",
    "\n",
    "# create a set of M values to test\n",
    "Ms_test = np.arange(1, 21)\n",
    "mse_s = np.zeros((Ms_test.shape[0], 1))\n",
    "\n",
    "for i, M in enumerate(Ms_test):\n",
    "    # - compute Design matrix\n",
    "    X = design_matrix(x[:, np.newaxis], M)\n",
    "    # - compute least-square solution (w)\n",
    "    w_ls = np.linalg.pinv(X) @ y\n",
    "    # - compute the mse on the predicted data and store it: mse_s[i] = \n",
    "    mse_s[i] = np.mean((X@w_ls - y))\n",
    "    \n",
    "\n",
    "# find the best M (the value of M associated with the lowest MSE) \n",
    "# use  \n",
    "np.argmin(mse_s)"
   ]
  },
  {
   "cell_type": "code",
   "execution_count": 7,
   "metadata": {},
   "outputs": [
    {
     "data": {
      "text/plain": [
       "[<matplotlib.lines.Line2D at 0x7fdbdf843a20>]"
      ]
     },
     "execution_count": 7,
     "metadata": {},
     "output_type": "execute_result"
    },
    {
     "data": {
      "image/png": "[encoded data removed]",
      "text/plain": [
       "<Figure size 432x288 with 1 Axes>"
      ]
     },
     "metadata": {
      "needs_background": "light"
     },
     "output_type": "display_data"
    }
   ],
   "source": [
    "X = design_matrix(x[:, np.newaxis], 17)\n",
    "w_ls = np.linalg.pinv(X) @ y\n",
    "\n",
    "xplt = np.linspace(0, 5, 100)\n",
    "Xplt = design_matrix(xplt[:, np.newaxis], 17)\n",
    "yplt = Xplt @ w_ls\n",
    "\n",
    "plt.plot(x, y, 'o')\n",
    "plt.plot(xplt, yplt)"
   ]
  },
  {
   "cell_type": "code",
   "execution_count": null,
   "metadata": {},
   "outputs": [],
   "source": []
  }
 ],
 "metadata": {
  "colab": {
   "collapsed_sections": [],
   "include_colab_link": true,
   "name": "Lab_Fit_Polynomial.ipynb",
   "provenance": []
  },
  "kernelspec": {
   "display_name": "Python 3",
   "language": "python",
   "name": "python3"
  },
  "language_info": {
   "codemirror_mode": {
    "name": "ipython",
    "version": 3
   },
   "file_extension": ".py",
   "mimetype": "text/x-python",
   "name": "python",
   "nbconvert_exporter": "python",
   "pygments_lexer": "ipython3",
   "version": "3.7.0"
  },
  "latex_envs": {
   "LaTeX_envs_menu_present": true,
   "autoclose": true,
   "autocomplete": true,
   "bibliofile": "biblio.bib",
   "cite_by": "apalike",
   "current_citInitial": 1,
   "eqLabelWithNumbers": true,
   "eqNumInitial": 1,
   "hotkeys": {
    "equation": "Ctrl-E",
    "itemize": "Ctrl-I"
   },
   "labels_anchors": false,
   "latex_user_defs": false,
   "report_style_numbering": false,
   "user_envs_cfg": false
  }
 },
 "nbformat": 4,
 "nbformat_minor": 1
}
